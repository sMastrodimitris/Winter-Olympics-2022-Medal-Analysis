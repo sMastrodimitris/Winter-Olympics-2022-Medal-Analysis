{
 "cells": [
  {
   "cell_type": "code",
   "execution_count": 1,
   "id": "8b2daa2b",
   "metadata": {},
   "outputs": [
    {
     "name": "stdout",
     "output_type": "stream",
     "text": [
      "           Country  Team Size\n",
      "0          Albania          1\n",
      "1   American Samoa          1\n",
      "2          Andorra          5\n",
      "3        Argentina          6\n",
      "4          Armenia          6\n",
      "..             ...        ...\n",
      "85          Turkey          7\n",
      "86         Ukraine         45\n",
      "87   United States        224\n",
      "88      Uzbekistan          1\n",
      "89  Virgin Islands          1\n",
      "\n",
      "[90 rows x 2 columns]\n"
     ]
    }
   ],
   "source": [
    "import pandas as pd\n",
    "import re\n",
    "\n",
    "data = []\n",
    "with open('Teams.csv', 'r') as file:\n",
    "    for line in file:\n",
    "        match = re.match(r'(.+?)\\((\\d+)\\)\\[(\\d+)\\]', line.strip())\n",
    "        if match:\n",
    "            country = match.group(1).strip()\n",
    "            team_size = int(match.group(2))\n",
    "            data.append({'Country': country, 'Team Size': team_size})\n",
    "\n",
    "df = pd.DataFrame(data)\n",
    "print(df)"
   ]
  },
  {
   "cell_type": "code",
   "execution_count": 2,
   "id": "47dee430",
   "metadata": {},
   "outputs": [
    {
     "name": "stdout",
     "output_type": "stream",
     "text": [
      "DataFrame saved as R_teams.csv\n"
     ]
    }
   ],
   "source": [
    "\n",
    "# Save the DataFrame to a new CSV file\n",
    "df.to_csv('R_teams.csv', index=False)\n",
    "\n",
    "print(\"DataFrame saved as R_teams.csv\")"
   ]
  },
  {
   "cell_type": "code",
   "execution_count": null,
   "id": "1089e946",
   "metadata": {},
   "outputs": [],
   "source": []
  }
 ],
 "metadata": {
  "kernelspec": {
   "display_name": "Python 3 (ipykernel)",
   "language": "python",
   "name": "python3"
  },
  "language_info": {
   "codemirror_mode": {
    "name": "ipython",
    "version": 3
   },
   "file_extension": ".py",
   "mimetype": "text/x-python",
   "name": "python",
   "nbconvert_exporter": "python",
   "pygments_lexer": "ipython3",
   "version": "3.11.1"
  }
 },
 "nbformat": 4,
 "nbformat_minor": 5
}
